{
 "metadata": {
  "name": ""
 },
 "nbformat": 3,
 "nbformat_minor": 0,
 "worksheets": [
  {
   "cells": [
    {
     "cell_type": "markdown",
     "metadata": {},
     "source": [
      "Central defines of which countries allow UHF telemetry / APRS"
     ]
    },
    {
     "cell_type": "code",
     "collapsed": false,
     "input": [
      "# North Korea, Yemen are totally excluded\n",
      "tx_exclude = ['KP', 'YE']\n",
      "\n",
      "# ?? Maybe China\n",
      "telemetry_exclude = [] + tx_exclude\n",
      "\n",
      "# United Kingdom, Isle of Man, Jersey, Guernsey\n",
      "# Belgium, Luxembourg, Portugal, France, Albania, Bosnia & H, Croatia, Finland (Aland), \n",
      "# Hungary, Italy, Macedonia, Moldova, Kaliningradskaya??, Montenegro, Norway, Romania, Slovakia, Sweden\n",
      "aprs_tx_exclude = ['GB', \"IM\", \"JE\", \"GG\",\n",
      "                   'BE', 'LU', 'PT', 'FR', 'AL', 'BA', 'HR', 'FI', 'A?',\n",
      "                   'HU', 'IT', 'MK', 'MD', 'ME', 'NO', 'RO', 'SK', 'SE'] + tx_exclude"
     ],
     "language": "python",
     "metadata": {},
     "outputs": [],
     "prompt_number": 1
    },
    {
     "cell_type": "code",
     "collapsed": false,
     "input": [],
     "language": "python",
     "metadata": {},
     "outputs": []
    }
   ],
   "metadata": {}
  }
 ]
}