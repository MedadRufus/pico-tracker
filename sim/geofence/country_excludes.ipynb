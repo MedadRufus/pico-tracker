{
 "metadata": {
  "name": ""
 },
 "nbformat": 3,
 "nbformat_minor": 0,
 "worksheets": [
  {
   "cells": [
    {
     "cell_type": "markdown",
     "metadata": {},
     "source": [
      "Central defines of which countries allow UHF telemetry / APRS"
     ]
    },
    {
     "cell_type": "code",
     "collapsed": false,
     "input": [
      "# North Korea, Yemen are totally excluded. Not members of ITU etc.\n",
      "tx_exclude = ['KP', 'YE']\n",
      "\n",
      "# ?? Maybe China\n",
      "telemetry_exclude = [] + tx_exclude\n",
      "\n",
      "# United Kingdom, Isle of Man, Jersey, Guernsey\n",
      "# Belgium, Luxembourg, Portugal, France, Albania, Bosnia & H, Croatia, Finland (Aland), \n",
      "# Hungary, Italy, Macedonia, Moldova, Kaliningradskaya??, Montenegro, Romania, Slovakia, Mexico\n",
      "# US with UK license under https://www.gpo.gov/fdsys/pkg/CFR-2013-title47-vol5/xml/CFR-2013-title47-vol5-sec97-107.xml 97.107(b)(2)\n",
      "# Mexico, not member of CEPT\n",
      "#\n",
      "# Edits June 2016:\n",
      "# - Sweden confirmed okay by SM0ULC\n",
      "# - Finland (Aland) probably okay, information from SM0ULC\n",
      "# - Norway confirmed okay by SM0ULC\n",
      "#\n",
      "aprs_tx_exclude = ['GB', \"IM\", \"JE\", \"GG\",\n",
      "                   'BE', 'LU', 'PT', 'FR', 'AL', 'BA', 'HR',\n",
      "                   'HU', 'IT', 'MK', 'MD', 'ME', 'RO', 'SK', 'MX'] + tx_exclude"
     ],
     "language": "python",
     "metadata": {},
     "outputs": [],
     "prompt_number": 3
    },
    {
     "cell_type": "code",
     "collapsed": false,
     "input": [],
     "language": "python",
     "metadata": {},
     "outputs": [],
     "prompt_number": 3
    }
   ],
   "metadata": {}
  }
 ]
}