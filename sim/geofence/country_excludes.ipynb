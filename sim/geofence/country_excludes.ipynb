{
 "metadata": {
  "name": ""
 },
 "nbformat": 3,
 "nbformat_minor": 0,
 "worksheets": [
  {
   "cells": [
    {
     "cell_type": "markdown",
     "metadata": {},
     "source": [
      "Central defines of which countries allow UHF telemetry / APRS"
     ]
    },
    {
     "cell_type": "code",
     "collapsed": false,
     "input": [
      "# North Korea, Yemen are totally excluded\n",
      "tx_exclude = ['KP', 'YE']\n",
      "\n",
      "# ?? Maybe China\n",
      "telemetry_exclude = [] + tx_exclude\n",
      "\n",
      "# United Kingdom, Isle of Man, Jersey, Guernsey\n",
      "# Belgium, Luxembourg, Portugal, France, Albania, Bosnia & H, Croatia, Finland (Aland), \n",
      "# Hungary, Italy, Macedonia, Moldova, Kaliningradskaya??, Montenegro, Norway, Romania, Slovakia, Sweden\n",
      "# US with UK license under https://www.gpo.gov/fdsys/pkg/CFR-2013-title47-vol5/xml/CFR-2013-title47-vol5-sec97-107.xml 97.107(b)(2)\n",
      "aprs_tx_exclude = ['GB', \"IM\", \"JE\", \"GG\",\n",
      "                   'BE', 'LU', 'PT', 'FR', 'AL', 'BA', 'HR', 'FI', 'A?',\n",
      "                   'HU', 'IT', 'MK', 'MD', 'ME', 'NO', 'RO', 'SK', 'SE',\n",
      "                   'US'] + tx_exclude"
     ],
     "language": "python",
     "metadata": {},
     "outputs": [],
     "prompt_number": 1
    },
    {
     "cell_type": "code",
     "collapsed": false,
     "input": [],
     "language": "python",
     "metadata": {},
     "outputs": []
    }
   ],
   "metadata": {}
  }
 ]
}